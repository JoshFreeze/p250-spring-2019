{
 "cells": [
  {
   "cell_type": "markdown",
   "metadata": {},
   "source": [
    "# Root Finding\n",
    "\n",
    "Here we will study root finding using some routines from `scipy.optimize`.  Our sample problem will be the shape of a soap film stretched between two rings.  This is a standard problem often encountered when study calculus of variations in classical mechanics."
   ]
  },
  {
   "cell_type": "markdown",
   "metadata": {},
   "source": [
    "## Initialization\n",
    "\n",
    "As always we should initialize our environment with everything we need.  Besides the usual inclusion of `numpy` and the relevant modules for plotting, we need the routines from `scipy.optimize`.  Also as usual we will give it a short name to make typing easier."
   ]
  },
  {
   "cell_type": "code",
   "execution_count": 1,
   "metadata": {
    "collapsed": true
   },
   "outputs": [],
   "source": [
    "import numpy as np\n",
    "import matplotlib.pyplot as plt\n",
    "%matplotlib inline\n",
    "import scipy.optimize as opt"
   ]
  },
  {
   "cell_type": "markdown",
   "metadata": {},
   "source": [
    "Before solving a problem we should learn what is available using the introspectation capabilities of IPython.  This includes getting information on the `scipy.optimize` modules, examining a list of functions available, and information on the main functions we will use: `bisect` and `brentq`."
   ]
  },
  {
   "cell_type": "code",
   "execution_count": null,
   "metadata": {
    "collapsed": true
   },
   "outputs": [],
   "source": [
    "opt?"
   ]
  },
  {
   "cell_type": "code",
   "execution_count": null,
   "metadata": {},
   "outputs": [],
   "source": [
    "opt."
   ]
  },
  {
   "cell_type": "code",
   "execution_count": null,
   "metadata": {
    "collapsed": true
   },
   "outputs": [],
   "source": [
    "opt.bisect?"
   ]
  },
  {
   "cell_type": "code",
   "execution_count": null,
   "metadata": {
    "collapsed": true
   },
   "outputs": [],
   "source": [
    "opt.brentq?"
   ]
  },
  {
   "cell_type": "markdown",
   "metadata": {},
   "source": [
    "Notice that `bisect` and `brentq` are called in exactly the same way, making it easy to switch between them.  The main arguments of interest to us will be the function, `f` and the two end points which **must** bracket a root, `a` and `b`.  We will use some of the other arguments, in particular `args`, `xtol`, and `full_output`."
   ]
  },
  {
   "cell_type": "markdown",
   "metadata": {},
   "source": [
    "## Soap Film Shape"
   ]
  },
  {
   "cell_type": "markdown",
   "metadata": {},
   "source": [
    "<img src=\"http://www.phys.cwru.edu/courses/p250/examples/soap_bubble.jpg\" />\n",
    "\n",
    "[Image originally from http://www.soapbubble.dk/en/bubbles/geometry.php]\n",
    "\n",
    "Consider two rings of radius $R$ with a thin soap film between the two rings.  As the rings are pulled apart the soap film forms the shape shown above and is known as a catenary.  If we let $z$ represent an axis through the center of the rings then the radius of the soap film as a function of the distance along this axis is given by\n",
    "$$ s(z) = \\alpha \\cosh\\left( \\frac{z-\\beta}{\\alpha} \\right), $$\n",
    "where $\\alpha$ and $\\beta$ are determined by your initial conditions.\n",
    "\n",
    "For initial conditions suppose that the bottom ring is at $z=0$ and the top ring is a height $L$ above the bottom one.  Since each ring has a radius $R$ this means that $s(0)=s(L)=R$.  These are our initial conditions.  Using $s(0)=R$ we can show that\n",
    "$$\\beta = \\alpha \\cosh^{-1}\\left(\\frac{R}{\\alpha}\\right), $$\n",
    "so, if we know $\\alpha$ we know $\\beta$.  From the condition $s(L)=R$ we find\n",
    "$$ \\alpha \\cosh\\left[ \\frac{L}{\\alpha} - \\cosh^{-1}\\left(\\frac{R}{\\alpha}\\right)\\right] = R.$$\n",
    "Unfortuantely we cannot solve this analytically.  This is a trancendental equation and must be solved numerically.\n",
    "\n",
    "### Basics\n",
    "\n",
    "To set up for a solution we begin by defining a function (see the prelab for more details). Recall that we want to define a function such that if $x_0$ is a solution, then $f(x_0)=0$.  Further, by default we will consider $L=1.2$ and $R=3$, but can change them if desired.  We will include these defaults in the definition of our function."
   ]
  },
  {
   "cell_type": "code",
   "execution_count": 2,
   "metadata": {
    "collapsed": true
   },
   "outputs": [],
   "source": [
    "def film_radius(alpha, L=1.2, R=3) :\n",
    "    return alpha*np.cosh(L/alpha - np.arccosh(R/alpha)) - R"
   ]
  },
  {
   "cell_type": "markdown",
   "metadata": {},
   "source": [
    "To get a quick idea of what this function looks like we should plot it.  A priori we do not know a good range of values to use for $\\alpha$ so we should try a few, I have settled on the following. (Note: \"Quick tests\" or a \"quick plot\" would normally be fine for this purpose.  Nonetheless, I will use the full, careful way of writing everything out in my examples.)"
   ]
  },
  {
   "cell_type": "code",
   "execution_count": 3,
   "metadata": {},
   "outputs": [
    {
     "data": {
      "image/png": "[encoded data removed]",
      "text/plain": [
       "<Figure size 432x288 with 1 Axes>"
      ]
     },
     "metadata": {
      "needs_background": "light"
     },
     "output_type": "display_data"
    }
   ],
   "source": [
    "alpha = np.linspace(2,3,100)\n",
    "fig = plt.figure()\n",
    "ax = fig.add_subplot(111)\n",
    "ax.plot(alpha, film_radius(alpha), 'k-')\n",
    "ax.set_xlabel(r'$\\alpha$')\n",
    "ax.set_ylabel('Boundary Condition Function')\n",
    "ax.set_title('Soap Film Boundary Condition')\n",
    "ax.axhline(0, color='k')\n",
    "ax.minorticks_on()"
   ]
  },
  {
   "cell_type": "markdown",
   "metadata": {},
   "source": [
    "We can see there is a root bounded by this interval, so use this interval to find the root.  We can use any method, we will use two of them"
   ]
  },
  {
   "cell_type": "code",
   "execution_count": 4,
   "metadata": {},
   "outputs": [
    {
     "name": "stdout",
     "output_type": "stream",
     "text": [
      "bisection, alpha = 2.9385318092263333\n",
      "brentq,    alpha = 2.9385318092260184\n"
     ]
    }
   ],
   "source": [
    "print('bisection, alpha =', opt.bisect(film_radius, 2, 3))\n",
    "print('brentq,    alpha =', opt.brentq(film_radius, 2, 3))"
   ]
  },
  {
   "cell_type": "markdown",
   "metadata": {},
   "source": [
    "They both give the same answer (for most of the digits printed) which is good.  We can get more information by using the `full_output` keyword."
   ]
  },
  {
   "cell_type": "code",
   "execution_count": 5,
   "metadata": {},
   "outputs": [
    {
     "data": {
      "text/plain": [
       "(2.9385318092260184,       converged: True\n",
       "            flag: 'converged'\n",
       "  function_calls: 9\n",
       "      iterations: 8\n",
       "            root: 2.9385318092260184)"
      ]
     },
     "execution_count": 5,
     "metadata": {},
     "output_type": "execute_result"
    }
   ],
   "source": [
    "opt.brentq(film_radius, 2, 3, full_output=True)"
   ]
  },
  {
   "cell_type": "markdown",
   "metadata": {},
   "source": [
    "What is this extra information printed?  It is a `RootResults` object that contains information.  What do we do with it? We store it in a variable and use our usual tools, Tab and/or '?', to explore it."
   ]
  },
  {
   "cell_type": "code",
   "execution_count": 6,
   "metadata": {
    "collapsed": true
   },
   "outputs": [],
   "source": [
    "(root,info) = opt.brentq(film_radius, 2, 3, full_output=True)"
   ]
  },
  {
   "cell_type": "code",
   "execution_count": 7,
   "metadata": {},
   "outputs": [
    {
     "data": {
      "text/plain": [
       "      converged: True\n",
       "           flag: 'converged'\n",
       " function_calls: 9\n",
       "     iterations: 8\n",
       "           root: 2.9385318092260184"
      ]
     },
     "execution_count": 7,
     "metadata": {},
     "output_type": "execute_result"
    }
   ],
   "source": [
    "info"
   ]
  },
  {
   "cell_type": "code",
   "execution_count": null,
   "metadata": {
    "collapsed": true
   },
   "outputs": [],
   "source": [
    "info."
   ]
  },
  {
   "cell_type": "markdown",
   "metadata": {},
   "source": [
    "We can use this to compare the two methods. (This shows one way of \"formatting\" output.  We will encounter this more throughout the semester.)"
   ]
  },
  {
   "cell_type": "code",
   "execution_count": 8,
   "metadata": {},
   "outputs": [
    {
     "name": "stdout",
     "output_type": "stream",
     "text": [
      "Bisect: 39 iterations, with 41 function calls\n",
      "Brentq: 8 iterations, with 9 function calls\n"
     ]
    }
   ],
   "source": [
    "(root_bisect, info_bisect) = opt.bisect(film_radius, 2, 3, full_output=True)\n",
    "(root_brentq, info_brentq) = opt.brentq(film_radius, 2, 3, full_output=True)\n",
    "print(\"Bisect: {} iterations, with {} function calls\".format(info_bisect.iterations,\n",
    "                                                             info_bisect.function_calls))\n",
    "print(\"Brentq: {} iterations, with {} function calls\".format(info_brentq.iterations,\n",
    "                                                             info_brentq.function_calls))"
   ]
  },
  {
   "cell_type": "markdown",
   "metadata": {},
   "source": [
    "### Tolerances\n",
    "\n",
    "The methods stop when they get \"close enough\" to the root.  How do they know?  This is where the tolerances come in.  From the documentation you see there are two of them, the main one for our purposes is `xtol`.  What is its default value?  We can set the tolerances as we prefer.  You should rerun the previous comparison with different values set for `xtol`."
   ]
  },
  {
   "cell_type": "markdown",
   "metadata": {},
   "source": [
    "### Extra Arguments\n",
    "\n",
    "The function we defined had three arguments, two of them had default values.  When `bisect` or `brentq` call our function `film_radius` **it only sets the first argument**.  The other two are not set so take on their default values.  Suppose we instead wanted to consider the case where $L=1.7$ and $R=1.5$, how would we do this without redefining our function?  This is done using the `args` keyword.  Note that `args` **should only contain the extra arguments to our function**, not the first argument since `bisect` and `brentq` are making up guesses for the first argument as they work.\n",
    "\n",
    "To solve for this case we should proceed as above by finding an interval that bounds the root, then finding the root.  Having done so we can find the root using."
   ]
  },
  {
   "cell_type": "code",
   "execution_count": 9,
   "metadata": {},
   "outputs": [
    {
     "data": {
      "text/plain": [
       "0.45832081874430497"
      ]
     },
     "execution_count": 9,
     "metadata": {},
     "output_type": "execute_result"
    }
   ],
   "source": [
    "root = opt.brentq(film_radius, 0.3, 1, args=(1.7,1.5))\n",
    "root"
   ]
  },
  {
   "cell_type": "markdown",
   "metadata": {},
   "source": [
    "To verify this looks reasonable let us make a plot."
   ]
  },
  {
   "cell_type": "code",
   "execution_count": 10,
   "metadata": {},
   "outputs": [
    {
     "data": {
      "image/png": "[encoded data removed]",
      "text/plain": [
       "<Figure size 432x288 with 1 Axes>"
      ]
     },
     "metadata": {
      "needs_background": "light"
     },
     "output_type": "display_data"
    }
   ],
   "source": [
    "alpha = np.linspace(0.3,1,1000)\n",
    "fig = plt.figure()\n",
    "ax = fig.add_subplot(111)\n",
    "ax.plot(alpha, film_radius(alpha,1.7,1.5), 'k-')\n",
    "ax.set_xlabel(r'$\\alpha$')\n",
    "ax.set_ylabel('Boundary Condition Function')\n",
    "ax.set_title('Soap Film Boundary Condition')\n",
    "ax.axhline(0, color='k')\n",
    "ax.axvline(root, color='r', ls='--')\n",
    "ax.minorticks_on()"
   ]
  },
  {
   "cell_type": "code",
   "execution_count": null,
   "metadata": {
    "collapsed": true
   },
   "outputs": [],
   "source": []
  }
 ],
 "metadata": {
  "anaconda-cloud": {},
  "kernelspec": {
   "display_name": "Python 3",
   "language": "python",
   "name": "python3"
  },
  "language_info": {
   "codemirror_mode": {
    "name": "ipython",
    "version": 3
   },
   "file_extension": ".py",
   "mimetype": "text/x-python",
   "name": "python",
   "nbconvert_exporter": "python",
   "pygments_lexer": "ipython3",
   "version": "3.7.2"
  }
 },
 "nbformat": 4,
 "nbformat_minor": 2
}
